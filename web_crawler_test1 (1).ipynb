{
  "cells": [
    {
      "cell_type": "markdown",
      "metadata": {
        "id": "olRtOMYHleQ6"
      },
      "source": [
        "# tests of scrapping"
      ]
    },
    {
      "cell_type": "code",
      "execution_count": 1,
      "metadata": {
        "id": "Xgs2WT4M9gCN"
      },
      "outputs": [],
      "source": [
        "import requests\n",
        "from bs4 import BeautifulSoup"
      ]
    },
    {
      "cell_type": "code",
      "execution_count": 2,
      "metadata": {
        "id": "vhEALeXyUMe0"
      },
      "outputs": [],
      "source": [
        "headers = {'User-Agent': 'Mozilla/5.0 (Windows NT 10.0; Win64; x64) AppleWebKit/537.36 (KHTML, like Gecko) Chrome/98.0.4758.102 Safari/537.36'}\n",
        "url = \"https://www.pascalcoste-shopping.com/esthetique/fond-de-teint.html\"\n",
        "response = requests.get(url, headers=headers)\n",
        "soup = BeautifulSoup(response.content, 'html.parser')\n"
      ]
    },
    {
      "cell_type": "code",
      "execution_count": 3,
      "metadata": {
        "id": "OASzfBnX9Zo9"
      },
      "outputs": [],
      "source": [
        "brand = soup.find('div', class_='uk-grid uk-grid-small small-label uk-grid-divider uk-flex-center').text.strip()"
      ]
    },
    {
      "cell_type": "code",
      "execution_count": 4,
      "metadata": {
        "colab": {
          "base_uri": "https://localhost:8080/",
          "height": 35
        },
        "id": "NUqqj6QwTEtm",
        "outputId": "faf52083-dfe1-40e1-dab0-bae9ebf35a0d"
      },
      "outputs": [
        {
          "data": {
            "text/plain": [
              "'Parisax Pro 30 ml'"
            ]
          },
          "execution_count": 4,
          "metadata": {},
          "output_type": "execute_result"
        }
      ],
      "source": [
        "brand"
      ]
    },
    {
      "cell_type": "code",
      "execution_count": 5,
      "metadata": {
        "id": "3agLho3WUcjz"
      },
      "outputs": [],
      "source": [
        "name = soup.find('h3', class_='product-name uk-margin-top').text.strip()\n"
      ]
    },
    {
      "cell_type": "code",
      "execution_count": 6,
      "metadata": {
        "id": "0DY003vBU7cs"
      },
      "outputs": [],
      "source": [
        "price = float(soup.find('span', class_='uk-price').text.replace('€', '').strip().replace(',', '.'))"
      ]
    },
    {
      "cell_type": "code",
      "execution_count": 7,
      "metadata": {
        "id": "fxraUMxQU-PT"
      },
      "outputs": [],
      "source": [
        "prod_url = soup.find('a', class_='uk-position-cover uk-cover-link-product')['href']\n",
        "\n"
      ]
    },
    {
      "cell_type": "code",
      "execution_count": 8,
      "metadata": {
        "id": "_01h3-5XUInv"
      },
      "outputs": [
        {
          "ename": "TypeError",
          "evalue": "'NoneType' object is not subscriptable",
          "output_type": "error",
          "traceback": [
            "\u001b[1;31m---------------------------------------------------------------------------\u001b[0m",
            "\u001b[1;31mTypeError\u001b[0m                                 Traceback (most recent call last)",
            "Cell \u001b[1;32mIn[8], line 1\u001b[0m\n\u001b[1;32m----> 1\u001b[0m img_url \u001b[38;5;241m=\u001b[39m \u001b[43msoup\u001b[49m\u001b[38;5;241;43m.\u001b[39;49m\u001b[43mfind\u001b[49m\u001b[43m(\u001b[49m\u001b[38;5;124;43m'\u001b[39;49m\u001b[38;5;124;43mimg\u001b[39;49m\u001b[38;5;124;43m'\u001b[39;49m\u001b[43m,\u001b[49m\u001b[43m \u001b[49m\u001b[43mclass_\u001b[49m\u001b[38;5;241;43m=\u001b[39;49m\u001b[38;5;124;43m'\u001b[39;49m\u001b[38;5;124;43muk-position-cover uk-cover-link-product\u001b[39;49m\u001b[38;5;124;43m'\u001b[39;49m\u001b[43m)\u001b[49m\u001b[43m[\u001b[49m\u001b[38;5;124;43m'\u001b[39;49m\u001b[38;5;124;43mhref\u001b[39;49m\u001b[38;5;124;43m'\u001b[39;49m\u001b[43m]\u001b[49m\n",
            "\u001b[1;31mTypeError\u001b[0m: 'NoneType' object is not subscriptable"
          ]
        }
      ],
      "source": [
        "img_url = soup.find('img', class_='uk-position-cover uk-cover-link-product')['href']"
      ]
    },
    {
      "cell_type": "code",
      "execution_count": null,
      "metadata": {
        "id": "Ti5078DsV1o_"
      },
      "outputs": [],
      "source": [
        "brand = soup.find('div', class_='uk-width-expand uk-first-column')"
      ]
    },
    {
      "cell_type": "code",
      "execution_count": null,
      "metadata": {
        "id": "6FXCgqhpe4eP"
      },
      "outputs": [],
      "source": [
        "soup.find('h3', class_='product-name uk-margin-top').text.strip()"
      ]
    },
    {
      "cell_type": "code",
      "execution_count": null,
      "metadata": {
        "id": "qQ-g-xZAXJf-"
      },
      "outputs": [],
      "source": [
        "product_elements = soup.find_all('div', class_='uk-grid')\n",
        "print(f\"Found {len(product_elements)} product(s) on the page.\")"
      ]
    },
    {
      "cell_type": "markdown",
      "metadata": {
        "id": "QnXSq-gNlUkY"
      },
      "source": [
        "# SCRAPPING FUNCTION"
      ]
    },
    {
      "cell_type": "code",
      "execution_count": 9,
      "metadata": {
        "id": "nigaeofXG4DI"
      },
      "outputs": [],
      "source": [
        "import requests\n",
        "from bs4 import BeautifulSoup\n",
        "\n",
        "def scrape_product_info(url):\n",
        "    # Define user-agent headers\n",
        "    headers = {\n",
        "        'User-Agent': 'Mozilla/5.0 (Windows NT 10.0; Win64; x64) AppleWebKit/537.36 (KHTML, like Gecko) Chrome/98.0.4758.102 Safari/537.36'\n",
        "    }\n",
        "    page = 1\n",
        "    products = []\n",
        "    while page:\n",
        "      # Send GET request to the URL\n",
        "      response = requests.get(url+\"?p=\"+str(page), headers=headers)\n",
        "\n",
        "      # Parse the HTML content\n",
        "      soup = BeautifulSoup(response.content, 'html.parser')\n",
        "\n",
        "\n",
        "\n",
        "      # Extract product details\n",
        "      product_elements = soup.find(\"div\", id='uk-product-list-container').find_all(\"div\", class_=\"uk-panel uk-position-relative\")\n",
        "\n",
        "      print(f\"Found {len(product_elements)} product(s) on the page.\")\n",
        "      if len(product_elements) == 0:\n",
        "        break\n",
        "      for product in product_elements:\n",
        "          name_element = product.find('h3', class_='product-name uk-margin-top')\n",
        "          price_element = product.find('span', class_='uk-price')\n",
        "          brand_element = product.find(\"div\", class_=\"uk-position-relative\").find(\"div\", class_=\"uk-width-expand\")\n",
        "          prod_url_element = product.find('a', class_='uk-position-cover uk-cover-link-product')['href']\n",
        "          img_url_element = soup.find('img', class_='product-image-photo')['src']\n",
        "\n",
        "          if name_element is not None and price_element is not None:\n",
        "              name = name_element.text.strip()\n",
        "              price = float(price_element.text.replace('€', '').strip().replace(',', '.'))\n",
        "              brand = brand_element.text\n",
        "              prod_url = prod_url_element\n",
        "              img_url = img_url_element\n",
        "\n",
        "              product_info = {\n",
        "                  'name': name,\n",
        "                  'price': round(price, 2),\n",
        "                  'brand': brand,\n",
        "                  'prod_url': prod_url,\n",
        "                  'img_url': img_url,\n",
        "              }\n",
        "\n",
        "              products.append(product_info)\n",
        "          else:\n",
        "              print(\"Could not find name or price element for a product.\")\n",
        "      page += 1\n",
        "\n",
        "    print(len(products))\n",
        "    return products\n",
        "\n",
        "\n",
        "\n"
      ]
    },
    {
      "cell_type": "markdown",
      "metadata": {
        "id": "qw9wdB-neJSL"
      },
      "source": [
        "## execution"
      ]
    },
    {
      "cell_type": "code",
      "execution_count": 10,
      "metadata": {
        "colab": {
          "base_uri": "https://localhost:8080/"
        },
        "id": "Ii4GQbx_PvId",
        "outputId": "bac577b9-3405-475e-bd18-1ae41e51acdb"
      },
      "outputs": [
        {
          "name": "stdout",
          "output_type": "stream",
          "text": [
            "Found 36 product(s) on the page.\n",
            "Found 36 product(s) on the page.\n",
            "Found 36 product(s) on the page.\n",
            "Found 4 product(s) on the page.\n",
            "Found 0 product(s) on the page.\n",
            "112\n",
            "[{'name': 'Fond de teint Matifiant Amande', 'price': 18.4, 'brand': 'Parisax Pro', 'prod_url': 'https://www.pascalcoste-shopping.com/fond-de-teint-matifiant-amande.html', 'img_url': 'data:image/png;base64,iVBORw0KGgoAAAANSUhEUgAAAAEAAAABCAQAAAC1HAwCAAAAC0lEQVR4nGP6zwAAAgcBApocMXEAAAAASUVORK5CYII='}, {'name': 'Fond de teint Matifiant Beige Naturel', 'price': 18.4, 'brand': 'Parisax Pro', 'prod_url': 'https://www.pascalcoste-shopping.com/fond-de-teint-matifiant-beige-naturel.html', 'img_url': 'data:image/png;base64,iVBORw0KGgoAAAANSUhEUgAAAAEAAAABCAQAAAC1HAwCAAAAC0lEQVR4nGP6zwAAAgcBApocMXEAAAAASUVORK5CYII='}, {'name': 'Fond de Teint Correcteur Fluide 10.5 Toleriane Maquillage La Roche Posay', 'price': 21.5, 'brand': 'La Roche-Posay', 'prod_url': 'https://www.pascalcoste-shopping.com/fond-de-teint-correcteur-fluide-10-5-toleriane-maquillage-la-roche-posay.html', 'img_url': 'data:image/png;base64,iVBORw0KGgoAAAANSUhEUgAAAAEAAAABCAQAAAC1HAwCAAAAC0lEQVR4nGP6zwAAAgcBApocMXEAAAAASUVORK5CYII='}, {'name': 'Fond de Teint Correcteur Fluide 11 Toleriane Maquillage La Roche Posay', 'price': 21.5, 'brand': 'La Roche-Posay', 'prod_url': 'https://www.pascalcoste-shopping.com/fond-de-teint-correcteur-fluide-11-toleriane-maquillage-la-roche-posay.html', 'img_url': 'data:image/png;base64,iVBORw0KGgoAAAANSUhEUgAAAAEAAAABCAQAAAC1HAwCAAAAC0lEQVR4nGP6zwAAAgcBApocMXEAAAAASUVORK5CYII='}, {'name': 'Fond de Teint Correcteur Fluide 19 Toleriane Maquillage La Roche Posay', 'price': 21.5, 'brand': 'La Roche-Posay', 'prod_url': 'https://www.pascalcoste-shopping.com/fond-de-teint-correcteur-fluide-19-toleriane-maquillage-la-roche-posay.html', 'img_url': 'data:image/png;base64,iVBORw0KGgoAAAANSUhEUgAAAAEAAAABCAQAAAC1HAwCAAAAC0lEQVR4nGP6zwAAAgcBApocMXEAAAAASUVORK5CYII='}, {'name': 'Fond de Teint Correcteur Fluide 12 Toleriane Maquillage La Roche Posay', 'price': 21.5, 'brand': 'La Roche-Posay', 'prod_url': 'https://www.pascalcoste-shopping.com/fond-de-teint-correcteur-fluide-12-toleriane-maquillage-la-roche-posay.html', 'img_url': 'data:image/png;base64,iVBORw0KGgoAAAANSUhEUgAAAAEAAAABCAQAAAC1HAwCAAAAC0lEQVR4nGP6zwAAAgcBApocMXEAAAAASUVORK5CYII='}, {'name': 'Fond de Teint Correcteur Fluide 12.5 Toleriane Maquillage La Roche Posay', 'price': 21.5, 'brand': 'La Roche-Posay', 'prod_url': 'https://www.pascalcoste-shopping.com/fond-de-teint-correcteur-fluide-12-5-toleriane-maquillage-la-roche-posay.html', 'img_url': 'data:image/png;base64,iVBORw0KGgoAAAANSUhEUgAAAAEAAAABCAQAAAC1HAwCAAAAC0lEQVR4nGP6zwAAAgcBApocMXEAAAAASUVORK5CYII='}, {'name': 'Dermablend Fond de Teint Fluide Correcteur 15 Opal Vichy', 'price': 22.2, 'brand': 'Vichy', 'prod_url': 'https://www.pascalcoste-shopping.com/dermablend-fond-de-teint-fluide-correcteur-15-opal-vichy.html', 'img_url': 'data:image/png;base64,iVBORw0KGgoAAAANSUhEUgAAAAEAAAABCAQAAAC1HAwCAAAAC0lEQVR4nGP6zwAAAgcBApocMXEAAAAASUVORK5CYII='}, {'name': 'Dermablend Fond de Teint Fluide Correcteur 20 Vanilla Vichy', 'price': 22.2, 'brand': 'Vichy', 'prod_url': 'https://www.pascalcoste-shopping.com/dermablend-fond-de-teint-fluide-correcteur-20-vanilla-vichy.html', 'img_url': 'data:image/png;base64,iVBORw0KGgoAAAANSUhEUgAAAAEAAAABCAQAAAC1HAwCAAAAC0lEQVR4nGP6zwAAAgcBApocMXEAAAAASUVORK5CYII='}, {'name': 'Dermablend Fond de Teint Fluide Correcteur 25 Nude Vichy', 'price': 22.2, 'brand': 'Vichy', 'prod_url': 'https://www.pascalcoste-shopping.com/dermablend-fond-de-teint-fluide-correcteur-25-nude-vichy.html', 'img_url': 'data:image/png;base64,iVBORw0KGgoAAAANSUhEUgAAAAEAAAABCAQAAAC1HAwCAAAAC0lEQVR4nGP6zwAAAgcBApocMXEAAAAASUVORK5CYII='}, {'name': 'Dermablend Fond de Teint Fluide Correcteur 45 Gold Vichy', 'price': 22.2, 'brand': 'Vichy', 'prod_url': 'https://www.pascalcoste-shopping.com/dermablend-fond-de-teint-fluide-correcteur-45-gold-vichy.html', 'img_url': 'data:image/png;base64,iVBORw0KGgoAAAANSUhEUgAAAAEAAAABCAQAAAC1HAwCAAAAC0lEQVR4nGP6zwAAAgcBApocMXEAAAAASUVORK5CYII='}, {'name': 'Dermablend Fond de Teint Fluide Correcteur 55 Bronze Vichy', 'price': 22.2, 'brand': 'Vichy', 'prod_url': 'https://www.pascalcoste-shopping.com/dermablend-fond-de-teint-fluide-correcteur-55-bronze-vichy.html', 'img_url': 'data:image/png;base64,iVBORw0KGgoAAAANSUhEUgAAAAEAAAABCAQAAAC1HAwCAAAAC0lEQVR4nGP6zwAAAgcBApocMXEAAAAASUVORK5CYII='}, {'name': 'Dermablend Fond de Teint Fluide Correcteur 30 Beige Vichy', 'price': 22.2, 'brand': 'Vichy', 'prod_url': 'https://www.pascalcoste-shopping.com/dermablend-fond-de-teint-fluide-correcteur-30-beige-vichy.html', 'img_url': 'data:image/png;base64,iVBORw0KGgoAAAANSUhEUgAAAAEAAAABCAQAAAC1HAwCAAAAC0lEQVR4nGP6zwAAAgcBApocMXEAAAAASUVORK5CYII='}, {'name': 'Dermablend Fond de Teint Fluide Correcteur 35 Sable Vichy', 'price': 22.2, 'brand': 'Vichy', 'prod_url': 'https://www.pascalcoste-shopping.com/dermablend-fond-de-teint-fluide-correcteur-35-sable-vichy.html', 'img_url': 'data:image/png;base64,iVBORw0KGgoAAAANSUhEUgAAAAEAAAABCAQAAAC1HAwCAAAAC0lEQVR4nGP6zwAAAgcBApocMXEAAAAASUVORK5CYII='}, {'name': 'Fond de Teint Anti-rides 55 Hâlé LiftActiv Flexiteint Vichy', 'price': 23.9, 'brand': 'Vichy', 'prod_url': 'https://www.pascalcoste-shopping.com/fond-de-teint-anti-rides-55-hale-liftactiv-flexiteint-vichy.html', 'img_url': 'data:image/png;base64,iVBORw0KGgoAAAANSUhEUgAAAAEAAAABCAQAAAC1HAwCAAAAC0lEQVR4nGP6zwAAAgcBApocMXEAAAAASUVORK5CYII='}, {'name': 'Fond de Teint Anti-rides 15 Très Clair LiftActiv Flexiteint Vichy', 'price': 23.9, 'brand': 'Vichy', 'prod_url': 'https://www.pascalcoste-shopping.com/fond-de-teint-anti-rides-15-tres-clair-liftactiv-flexiteint-vichy.html', 'img_url': 'data:image/png;base64,iVBORw0KGgoAAAANSUhEUgAAAAEAAAABCAQAAAC1HAwCAAAAC0lEQVR4nGP6zwAAAgcBApocMXEAAAAASUVORK5CYII='}, {'name': 'Dermablend 3D Correction Fond de Teint 25 Nude Vichy', 'price': 25.0, 'brand': 'Vichy', 'prod_url': 'https://www.pascalcoste-shopping.com/dermablend-3d-correction-fond-de-teint-25-nude-vichy.html', 'img_url': 'data:image/png;base64,iVBORw0KGgoAAAANSUhEUgAAAAEAAAABCAQAAAC1HAwCAAAAC0lEQVR4nGP6zwAAAgcBApocMXEAAAAASUVORK5CYII='}, {'name': 'Dermablend 3D Correction Fond de Teint 45 Gold Vichy', 'price': 25.0, 'brand': 'Vichy', 'prod_url': 'https://www.pascalcoste-shopping.com/dermablend-3d-correction-fond-de-teint-45-gold-vichy.html', 'img_url': 'data:image/png;base64,iVBORw0KGgoAAAANSUhEUgAAAAEAAAABCAQAAAC1HAwCAAAAC0lEQVR4nGP6zwAAAgcBApocMXEAAAAASUVORK5CYII='}, {'name': 'Dermablend 3D Correction Fond de Teint 35 Sand Vichy', 'price': 25.0, 'brand': 'Vichy', 'prod_url': 'https://www.pascalcoste-shopping.com/dermablend-3d-correction-fond-de-teint-35-sand-vichy.html', 'img_url': 'data:image/png;base64,iVBORw0KGgoAAAANSUhEUgAAAAEAAAABCAQAAAC1HAwCAAAAC0lEQVR4nGP6zwAAAgcBApocMXEAAAAASUVORK5CYII='}, {'name': 'Dermablend 3D Correction Fond de Teint 15 Opal Vichy', 'price': 25.0, 'brand': 'Vichy', 'prod_url': 'https://www.pascalcoste-shopping.com/dermablend-3d-correction-fond-de-teint-15-opal-vichy.html', 'img_url': 'data:image/png;base64,iVBORw0KGgoAAAANSUhEUgAAAAEAAAABCAQAAAC1HAwCAAAAC0lEQVR4nGP6zwAAAgcBApocMXEAAAAASUVORK5CYII='}, {'name': 'Fond de Teint Photoready Candid Light Honey', 'price': 10.8, 'brand': 'Revlon Maquillage', 'prod_url': 'https://www.pascalcoste-shopping.com/fond-de-teint-photoready-candid-light-honey.html', 'img_url': 'data:image/png;base64,iVBORw0KGgoAAAANSUhEUgAAAAEAAAABCAQAAAC1HAwCAAAAC0lEQVR4nGP6zwAAAgcBApocMXEAAAAASUVORK5CYII='}, {'name': 'Fond de Teint Photoready Candid Natural Tan', 'price': 10.8, 'brand': 'Revlon Maquillage', 'prod_url': 'https://www.pascalcoste-shopping.com/fond-de-teint-photoready-candid-natural-tan.html', 'img_url': 'data:image/png;base64,iVBORw0KGgoAAAANSUhEUgAAAAEAAAABCAQAAAC1HAwCAAAAC0lEQVR4nGP6zwAAAgcBApocMXEAAAAASUVORK5CYII='}, {'name': 'Fond de Teint Photoready Candid Walnut', 'price': 10.8, 'brand': 'Revlon Maquillage', 'prod_url': 'https://www.pascalcoste-shopping.com/fond-de-teint-photoready-candid-walnut.html', 'img_url': 'data:image/png;base64,iVBORw0KGgoAAAANSUhEUgAAAAEAAAABCAQAAAC1HAwCAAAAC0lEQVR4nGP6zwAAAgcBApocMXEAAAAASUVORK5CYII='}, {'name': 'Fond de Teint Photoready Candid Nude', 'price': 10.8, 'brand': 'Revlon Maquillage', 'prod_url': 'https://www.pascalcoste-shopping.com/fond-de-teint-photoready-candid-nude.html', 'img_url': 'data:image/png;base64,iVBORw0KGgoAAAANSUhEUgAAAAEAAAABCAQAAAC1HAwCAAAAC0lEQVR4nGP6zwAAAgcBApocMXEAAAAASUVORK5CYII='}, {'name': 'Fond de Teint Photoready Candid Butterscotch', 'price': 10.8, 'brand': 'Revlon Maquillage', 'prod_url': 'https://www.pascalcoste-shopping.com/fond-de-teint-photoready-candid-butterscotch.html', 'img_url': 'data:image/png;base64,iVBORw0KGgoAAAANSUhEUgAAAAEAAAABCAQAAAC1HAwCAAAAC0lEQVR4nGP6zwAAAgcBApocMXEAAAAASUVORK5CYII='}, {'name': 'Fond de Teint ColorStay Full Cover N°410 Toast Revlon', 'price': 11.5, 'brand': 'Revlon Maquillage', 'prod_url': 'https://www.pascalcoste-shopping.com/fond-de-teint-colorstay-full-cover-n-410-toast-revlon.html', 'img_url': 'data:image/png;base64,iVBORw0KGgoAAAANSUhEUgAAAAEAAAABCAQAAAC1HAwCAAAAC0lEQVR4nGP6zwAAAgcBApocMXEAAAAASUVORK5CYII='}, {'name': 'Fond de Teint ColorStay Full Cover N°425 Caramel Revlon', 'price': 11.5, 'brand': 'Revlon Maquillage', 'prod_url': 'https://www.pascalcoste-shopping.com/fond-de-teint-colorstay-full-cover-n-425-caramel-revlon.html', 'img_url': 'data:image/png;base64,iVBORw0KGgoAAAANSUhEUgAAAAEAAAABCAQAAAC1HAwCAAAAC0lEQVR4nGP6zwAAAgcBApocMXEAAAAASUVORK5CYII='}, {'name': 'Fond de Teint ColorStay Full Cover N°220 Natural Beige Revlon', 'price': 11.5, 'brand': 'Revlon Maquillage', 'prod_url': 'https://www.pascalcoste-shopping.com/fond-de-teint-colorstay-full-cover-n-220-natural-beige-revlon.html', 'img_url': 'data:image/png;base64,iVBORw0KGgoAAAANSUhEUgAAAAEAAAABCAQAAAC1HAwCAAAAC0lEQVR4nGP6zwAAAgcBApocMXEAAAAASUVORK5CYII='}, {'name': 'Fond de Teint ColorStay Full Cover N°330 Natural Tan', 'price': 11.5, 'brand': 'Revlon Maquillage', 'prod_url': 'https://www.pascalcoste-shopping.com/fond-de-teint-colorstay-full-cover-n-330-natural-tan.html', 'img_url': 'data:image/png;base64,iVBORw0KGgoAAAANSUhEUgAAAAEAAAABCAQAAAC1HAwCAAAAC0lEQVR4nGP6zwAAAgcBApocMXEAAAAASUVORK5CYII='}, {'name': 'Fond de Teint ColorStay Full Cover N°210 Sand Beige Revlon', 'price': 11.5, 'brand': 'Revlon Maquillage', 'prod_url': 'https://www.pascalcoste-shopping.com/fond-de-teint-colorstay-full-cover-n-210-sand-beige-revlon.html', 'img_url': 'data:image/png;base64,iVBORw0KGgoAAAANSUhEUgAAAAEAAAABCAQAAAC1HAwCAAAAC0lEQVR4nGP6zwAAAgcBApocMXEAAAAASUVORK5CYII='}, {'name': 'Fond de teint PhotoReady Candid Glow N°510 Cappuccino', 'price': 16.5, 'brand': 'Revlon Maquillage', 'prod_url': 'https://www.pascalcoste-shopping.com/fond-de-teint-photoready-candid-glow-n-510-cappuccino.html', 'img_url': 'data:image/png;base64,iVBORw0KGgoAAAANSUhEUgAAAAEAAAABCAQAAAC1HAwCAAAAC0lEQVR4nGP6zwAAAgcBApocMXEAAAAASUVORK5CYII='}, {'name': 'Fond de teint PhotoReady Candid Glow N°430 Honey Beige', 'price': 16.5, 'brand': 'Revlon Maquillage', 'prod_url': 'https://www.pascalcoste-shopping.com/fond-de-teint-photoready-candid-glow-n-430-honey-beige.html', 'img_url': 'data:image/png;base64,iVBORw0KGgoAAAANSUhEUgAAAAEAAAABCAQAAAC1HAwCAAAAC0lEQVR4nGP6zwAAAgcBApocMXEAAAAASUVORK5CYII='}, {'name': 'Fond de teint PhotoReady Candid Glow N°270 Medium Beige', 'price': 16.5, 'brand': 'Revlon Maquillage', 'prod_url': 'https://www.pascalcoste-shopping.com/fond-de-teint-photoready-candid-glow-n-270-medium-beige.html', 'img_url': 'data:image/png;base64,iVBORw0KGgoAAAANSUhEUgAAAAEAAAABCAQAAAC1HAwCAAAAC0lEQVR4nGP6zwAAAgcBApocMXEAAAAASUVORK5CYII='}, {'name': 'Fond de teint PhotoReady Candid Glow N°350 Natural Tan', 'price': 16.5, 'brand': 'Revlon Maquillage', 'prod_url': 'https://www.pascalcoste-shopping.com/fond-de-teint-photoready-candid-glow-n-350-natural-tan.html', 'img_url': 'data:image/png;base64,iVBORw0KGgoAAAANSUhEUgAAAAEAAAABCAQAAAC1HAwCAAAAC0lEQVR4nGP6zwAAAgcBApocMXEAAAAASUVORK5CYII='}, {'name': 'Fond de Teint Colorstay Peaux Mixtes à Grasses N°220 Natural Beige Revlon', 'price': 15.0, 'brand': 'Revlon Maquillage', 'prod_url': 'https://www.pascalcoste-shopping.com/fond-de-teint-colorstay-peaux-mixtes-a-grasses-natural-beige.html', 'img_url': 'data:image/png;base64,iVBORw0KGgoAAAANSUhEUgAAAAEAAAABCAQAAAC1HAwCAAAAC0lEQVR4nGP6zwAAAgcBApocMXEAAAAASUVORK5CYII='}, {'name': 'Fond de Teint Colorstay Peaux Mixtes à Grasses N°320 True Beige Revlon', 'price': 15.0, 'brand': 'Revlon Maquillage', 'prod_url': 'https://www.pascalcoste-shopping.com/fond-de-teint-colorstay-peaux-mixtes-a-grasses-true-beige.html', 'img_url': 'data:image/png;base64,iVBORw0KGgoAAAANSUhEUgAAAAEAAAABCAQAAAC1HAwCAAAAC0lEQVR4nGP6zwAAAgcBApocMXEAAAAASUVORK5CYII='}, {'name': 'Fond de Teint Colorstay Peaux Mixtes à Grasses N°330 Natural Tan Revlon', 'price': 15.0, 'brand': 'Revlon Maquillage', 'prod_url': 'https://www.pascalcoste-shopping.com/fond-de-teint-colorstay-peaux-mixtes-a-grasses-natural-tan.html', 'img_url': 'data:image/png;base64,iVBORw0KGgoAAAANSUhEUgAAAAEAAAABCAQAAAC1HAwCAAAAC0lEQVR4nGP6zwAAAgcBApocMXEAAAAASUVORK5CYII='}, {'name': 'Fond de Teint Colorstay Peaux Normales à Sèches N°320 True Beige Revlon', 'price': 15.0, 'brand': 'Revlon Maquillage', 'prod_url': 'https://www.pascalcoste-shopping.com/fond-de-teint-colorstay-dry-skin-true-beige.html', 'img_url': 'data:image/png;base64,iVBORw0KGgoAAAANSUhEUgAAAAEAAAABCAQAAAC1HAwCAAAAC0lEQVR4nGP6zwAAAgcBApocMXEAAAAASUVORK5CYII='}, {'name': 'Fond de Teint Colorstay Peaux Mixtes à Grasses N°360 Golden Caramel Revlon', 'price': 15.0, 'brand': 'Revlon Maquillage', 'prod_url': 'https://www.pascalcoste-shopping.com/fond-de-teint-colorstay-peaux-mixtes-a-grasses-n-360-golden-caramel-revlon.html', 'img_url': 'data:image/png;base64,iVBORw0KGgoAAAANSUhEUgAAAAEAAAABCAQAAAC1HAwCAAAAC0lEQVR4nGP6zwAAAgcBApocMXEAAAAASUVORK5CYII='}, {'name': 'Fond de Teint Colorstay Peaux Mixtes à Grasses N°135 Vanilla Revlon', 'price': 15.0, 'brand': 'Revlon Maquillage', 'prod_url': 'https://www.pascalcoste-shopping.com/fond-de-teint-colorstay-peaux-mixtes-a-grasses-n-135-vanilla-revlon.html', 'img_url': 'data:image/png;base64,iVBORw0KGgoAAAANSUhEUgAAAAEAAAABCAQAAAC1HAwCAAAAC0lEQVR4nGP6zwAAAgcBApocMXEAAAAASUVORK5CYII='}, {'name': 'Fond de Teint Colorstay Peaux Mixtes à Grasses N°200 Nude Revlon', 'price': 15.0, 'brand': 'Revlon Maquillage', 'prod_url': 'https://www.pascalcoste-shopping.com/fond-de-teint-colorstay-peaux-mixtes-a-grasses-n-200-nude-revlon.html', 'img_url': 'data:image/png;base64,iVBORw0KGgoAAAANSUhEUgAAAAEAAAABCAQAAAC1HAwCAAAAC0lEQVR4nGP6zwAAAgcBApocMXEAAAAASUVORK5CYII='}, {'name': 'Fond de Teint Colorstay Peaux Mixtes à Grasses N°240 Medium Beige Revlon', 'price': 15.0, 'brand': 'Revlon Maquillage', 'prod_url': 'https://www.pascalcoste-shopping.com/fond-de-teint-colorstay-peaux-mixtes-a-grasses-n-240-medium-beige-revlon.html', 'img_url': 'data:image/png;base64,iVBORw0KGgoAAAANSUhEUgAAAAEAAAABCAQAAAC1HAwCAAAAC0lEQVR4nGP6zwAAAgcBApocMXEAAAAASUVORK5CYII='}, {'name': 'Fond de Teint Colorstay Peaux Mixtes à Grasses N°310 Warm Golden Revlon', 'price': 15.0, 'brand': 'Revlon Maquillage', 'prod_url': 'https://www.pascalcoste-shopping.com/fond-de-teint-colorstay-peaux-mixtes-a-grasses-n-310-warm-golden-revlon.html', 'img_url': 'data:image/png;base64,iVBORw0KGgoAAAANSUhEUgAAAAEAAAABCAQAAAC1HAwCAAAAC0lEQVR4nGP6zwAAAgcBApocMXEAAAAASUVORK5CYII='}, {'name': 'Fond de Teint Colorstay Peaux Mixtes à Grasses N°340 Early Tan Revlon', 'price': 15.0, 'brand': 'Revlon Maquillage', 'prod_url': 'https://www.pascalcoste-shopping.com/fond-de-teint-colorstay-peaux-mixtes-a-grasses-n-340-early-tan-revlon.html', 'img_url': 'data:image/png;base64,iVBORw0KGgoAAAANSUhEUgAAAAEAAAABCAQAAAC1HAwCAAAAC0lEQVR4nGP6zwAAAgcBApocMXEAAAAASUVORK5CYII='}, {'name': 'Fond de Teint Colorstay Peaux Mixtes à Grasses N°350 Rich Tan Revlon', 'price': 15.0, 'brand': 'Revlon Maquillage', 'prod_url': 'https://www.pascalcoste-shopping.com/fond-de-teint-colorstay-peaux-mixtes-a-grasses-rich-tan.html', 'img_url': 'data:image/png;base64,iVBORw0KGgoAAAANSUhEUgAAAAEAAAABCAQAAAC1HAwCAAAAC0lEQVR4nGP6zwAAAgcBApocMXEAAAAASUVORK5CYII='}, {'name': 'Fond de Teint Colorstay Peaux Mixtes à Grasses N°370 Toast Revlon', 'price': 15.0, 'brand': 'Revlon Maquillage', 'prod_url': 'https://www.pascalcoste-shopping.com/fond-de-teint-colorstay-peaux-mixtes-a-grasses-toast.html', 'img_url': 'data:image/png;base64,iVBORw0KGgoAAAANSUhEUgAAAAEAAAABCAQAAAC1HAwCAAAAC0lEQVR4nGP6zwAAAgcBApocMXEAAAAASUVORK5CYII='}, {'name': 'Fond de Teint Colorstay Peaux Normales à Sèches N°330 Natural Tan Revlon', 'price': 15.0, 'brand': 'Revlon Maquillage', 'prod_url': 'https://www.pascalcoste-shopping.com/fond-de-teint-colorstay-dry-skin-natural-tan.html', 'img_url': 'data:image/png;base64,iVBORw0KGgoAAAANSUhEUgAAAAEAAAABCAQAAAC1HAwCAAAAC0lEQVR4nGP6zwAAAgcBApocMXEAAAAASUVORK5CYII='}, {'name': 'Fond de Teint Colorstay Peaux Normales à Sèches N°150 Buff Revlon', 'price': 15.0, 'brand': 'Revlon Maquillage', 'prod_url': 'https://www.pascalcoste-shopping.com/fond-de-teint-colorstay-dry-skin-buff.html', 'img_url': 'data:image/png;base64,iVBORw0KGgoAAAANSUhEUgAAAAEAAAABCAQAAAC1HAwCAAAAC0lEQVR4nGP6zwAAAgcBApocMXEAAAAASUVORK5CYII='}, {'name': 'Fond de Teint Colorstay Peaux Normales à Sèches N°240 Medium Beige Revlon', 'price': 15.0, 'brand': 'Revlon Maquillage', 'prod_url': 'https://www.pascalcoste-shopping.com/fond-de-teint-colorstay-dry-skin-medium-beige.html', 'img_url': 'data:image/png;base64,iVBORw0KGgoAAAANSUhEUgAAAAEAAAABCAQAAAC1HAwCAAAAC0lEQVR4nGP6zwAAAgcBApocMXEAAAAASUVORK5CYII='}, {'name': 'Fond de Teint Colorstay Peaux Normales à Sèches N°370 Toast Revlon', 'price': 15.0, 'brand': 'Revlon Maquillage', 'prod_url': 'https://www.pascalcoste-shopping.com/fond-de-teint-colorstay-dry-skin-toast.html', 'img_url': 'data:image/png;base64,iVBORw0KGgoAAAANSUhEUgAAAAEAAAABCAQAAAC1HAwCAAAAC0lEQVR4nGP6zwAAAgcBApocMXEAAAAASUVORK5CYII='}, {'name': 'Fond de Teint Colorstay Peaux Mixtes à Grasses N°150 Buff Revlon', 'price': 15.0, 'brand': 'Revlon Maquillage', 'prod_url': 'https://www.pascalcoste-shopping.com/fond-de-teint-colorstay-peaux-mixtes-a-grasses-n-150-buff-revlon.html', 'img_url': 'data:image/png;base64,iVBORw0KGgoAAAANSUhEUgAAAAEAAAABCAQAAAC1HAwCAAAAC0lEQVR4nGP6zwAAAgcBApocMXEAAAAASUVORK5CYII='}, {'name': 'Fond de Teint Colorstay Peaux Mixtes à Grasses N°250 Fresh Beige Revlon', 'price': 15.0, 'brand': 'Revlon Maquillage', 'prod_url': 'https://www.pascalcoste-shopping.com/fond-de-teint-colorstay-peaux-mixtes-a-grasses-fresh-beige.html', 'img_url': 'data:image/png;base64,iVBORw0KGgoAAAANSUhEUgAAAAEAAAABCAQAAAC1HAwCAAAAC0lEQVR4nGP6zwAAAgcBApocMXEAAAAASUVORK5CYII='}, {'name': 'Fond de Teint Colorstay Peaux Normales à Sèches N°110 Ivory Revlon', 'price': 15.0, 'brand': 'Revlon Maquillage', 'prod_url': 'https://www.pascalcoste-shopping.com/fond-de-teint-colorstay-dry-skin-ivory.html', 'img_url': 'data:image/png;base64,iVBORw0KGgoAAAANSUhEUgAAAAEAAAABCAQAAAC1HAwCAAAAC0lEQVR4nGP6zwAAAgcBApocMXEAAAAASUVORK5CYII='}, {'name': 'Fond de Teint Colorstay Peaux Normales à Sèches N°200 Nude Revlon', 'price': 15.0, 'brand': 'Revlon Maquillage', 'prod_url': 'https://www.pascalcoste-shopping.com/fond-de-teint-colorstay-dry-skin-nude.html', 'img_url': 'data:image/png;base64,iVBORw0KGgoAAAANSUhEUgAAAAEAAAABCAQAAAC1HAwCAAAAC0lEQVR4nGP6zwAAAgcBApocMXEAAAAASUVORK5CYII='}, {'name': 'Fond de Teint Colorstay Peaux Normales à Sèches N°220 Natural Beige Revlon', 'price': 15.0, 'brand': 'Revlon Maquillage', 'prod_url': 'https://www.pascalcoste-shopping.com/fond-de-teint-colorstay-dry-skin-natural-beige.html', 'img_url': 'data:image/png;base64,iVBORw0KGgoAAAANSUhEUgAAAAEAAAABCAQAAAC1HAwCAAAAC0lEQVR4nGP6zwAAAgcBApocMXEAAAAASUVORK5CYII='}, {'name': 'Fond de Teint Colorstay Peaux Mixtes à Grasses N°110 Ivory Revlon', 'price': 15.0, 'brand': 'Revlon Maquillage', 'prod_url': 'https://www.pascalcoste-shopping.com/fond-de-teint-colorstay-peaux-mixtes-a-grasses-ivory.html', 'img_url': 'data:image/png;base64,iVBORw0KGgoAAAANSUhEUgAAAAEAAAABCAQAAAC1HAwCAAAAC0lEQVR4nGP6zwAAAgcBApocMXEAAAAASUVORK5CYII='}, {'name': 'Fond de Teint Colorstay Peaux Mixtes à Grasses N°180 Sand Beige Revlon', 'price': 15.0, 'brand': 'Revlon Maquillage', 'prod_url': 'https://www.pascalcoste-shopping.com/fond-de-teint-colorstay-peaux-mixtes-a-grasses-sand-beige.html', 'img_url': 'data:image/png;base64,iVBORw0KGgoAAAANSUhEUgAAAAEAAAABCAQAAAC1HAwCAAAAC0lEQVR4nGP6zwAAAgcBApocMXEAAAAASUVORK5CYII='}, {'name': 'Fond de Teint Colorstay Peaux Mixtes à Grasses N°400 Caramel Revlon', 'price': 15.0, 'brand': 'Revlon Maquillage', 'prod_url': 'https://www.pascalcoste-shopping.com/fond-de-teint-colorstay-peaux-mixtes-a-grasses-caramel.html', 'img_url': 'data:image/png;base64,iVBORw0KGgoAAAANSUhEUgAAAAEAAAABCAQAAAC1HAwCAAAAC0lEQVR4nGP6zwAAAgcBApocMXEAAAAASUVORK5CYII='}, {'name': 'Fond de Teint Colorstay Peaux Normales à Sèches N°180 Sand Beige Revlon', 'price': 15.0, 'brand': 'Revlon Maquillage', 'prod_url': 'https://www.pascalcoste-shopping.com/fond-de-teint-colorstay-dry-skin-sand-beige.html', 'img_url': 'data:image/png;base64,iVBORw0KGgoAAAANSUhEUgAAAAEAAAABCAQAAAC1HAwCAAAAC0lEQVR4nGP6zwAAAgcBApocMXEAAAAASUVORK5CYII='}, {'name': 'Fond de Teint Colorstay Peaux Mixtes à Grasses N°290 Natural Ochre Revlon', 'price': 15.0, 'brand': 'Revlon Maquillage', 'prod_url': 'https://www.pascalcoste-shopping.com/fond-de-teint-colorstay-peaux-mixtes-a-grasses-n-290-natural-ochre-revlon.html', 'img_url': 'data:image/png;base64,iVBORw0KGgoAAAANSUhEUgAAAAEAAAABCAQAAAC1HAwCAAAAC0lEQVR4nGP6zwAAAgcBApocMXEAAAAASUVORK5CYII='}, {'name': 'Fond de Teint Colorstay Peaux Mixtes à Grasses N°300 Golden Beige Revlon', 'price': 15.0, 'brand': 'Revlon Maquillage', 'prod_url': 'https://www.pascalcoste-shopping.com/fond-de-teint-colorstay-peaux-mixtes-a-grasses-n-300-golden-beige-revlon.html', 'img_url': 'data:image/png;base64,iVBORw0KGgoAAAANSUhEUgAAAAEAAAABCAQAAAC1HAwCAAAAC0lEQVR4nGP6zwAAAgcBApocMXEAAAAASUVORK5CYII='}, {'name': 'BB Crème 002 Beige Gosh', 'price': 18.8, 'brand': 'Gosh Copenhagen', 'prod_url': 'https://www.pascalcoste-shopping.com/bb-creme-002-beige-gosh.html', 'img_url': 'data:image/png;base64,iVBORw0KGgoAAAANSUhEUgAAAAEAAAABCAQAAAC1HAwCAAAAC0lEQVR4nGP6zwAAAgcBApocMXEAAAAASUVORK5CYII='}, {'name': 'BB Crème 003 Beige Chaud Gosh', 'price': 18.8, 'brand': 'Gosh Copenhagen', 'prod_url': 'https://www.pascalcoste-shopping.com/bb-creme-003-beige-chaud-gosh.html', 'img_url': 'data:image/png;base64,iVBORw0KGgoAAAANSUhEUgAAAAEAAAABCAQAAAC1HAwCAAAAC0lEQVR4nGP6zwAAAgcBApocMXEAAAAASUVORK5CYII='}, {'name': 'Fond de Teint X-Ceptional 16 Doré Gosh', 'price': 19.6, 'brand': 'Gosh Copenhagen', 'prod_url': 'https://www.pascalcoste-shopping.com/fond-de-teint-x-ceptional-16-dore-gosh.html', 'img_url': 'data:image/png;base64,iVBORw0KGgoAAAANSUhEUgAAAAEAAAABCAQAAAC1HAwCAAAAC0lEQVR4nGP6zwAAAgcBApocMXEAAAAASUVORK5CYII='}, {'name': 'Fond de Teint X-Ceptional 14 Sable Gosh', 'price': 19.6, 'brand': 'Gosh Copenhagen', 'prod_url': 'https://www.pascalcoste-shopping.com/fond-de-teint-x-ceptional-14-sable-gosh.html', 'img_url': 'data:image/png;base64,iVBORw0KGgoAAAANSUhEUgAAAAEAAAABCAQAAAC1HAwCAAAAC0lEQVR4nGP6zwAAAgcBApocMXEAAAAASUVORK5CYII='}, {'name': 'Fond de Teint X-Ceptional 18 Sunny Gosh', 'price': 19.6, 'brand': 'Gosh Copenhagen', 'prod_url': 'https://www.pascalcoste-shopping.com/fond-de-teint-x-ceptional-18-sunny-gosh.html', 'img_url': 'data:image/png;base64,iVBORw0KGgoAAAANSUhEUgAAAAEAAAABCAQAAAC1HAwCAAAAC0lEQVR4nGP6zwAAAgcBApocMXEAAAAASUVORK5CYII='}, {'name': 'Fond de Teint X-Ceptional 20 Caramel Gosh', 'price': 19.6, 'brand': 'Gosh Copenhagen', 'prod_url': 'https://www.pascalcoste-shopping.com/fond-de-teint-x-ceptional-20-caramel-gosh.html', 'img_url': 'data:image/png;base64,iVBORw0KGgoAAAANSUhEUgAAAAEAAAABCAQAAAC1HAwCAAAAC0lEQVR4nGP6zwAAAgcBApocMXEAAAAASUVORK5CYII='}, {'name': 'Fond de Teint X-Ceptional 22 Moka Gosh', 'price': 19.6, 'brand': 'Gosh Copenhagen', 'prod_url': 'https://www.pascalcoste-shopping.com/fond-de-teint-x-ceptional-22-moka-gosh.html', 'img_url': 'data:image/png;base64,iVBORw0KGgoAAAANSUhEUgAAAAEAAAABCAQAAAC1HAwCAAAAC0lEQVR4nGP6zwAAAgcBApocMXEAAAAASUVORK5CYII='}, {'name': 'Fond de Teint X-Ceptional 19 Châtain Gosh', 'price': 19.6, 'brand': 'Gosh Copenhagen', 'prod_url': 'https://www.pascalcoste-shopping.com/fond-de-teint-x-ceptional-19-chatain-gosh.html', 'img_url': 'data:image/png;base64,iVBORw0KGgoAAAANSUhEUgAAAAEAAAABCAQAAAC1HAwCAAAAC0lEQVR4nGP6zwAAAgcBApocMXEAAAAASUVORK5CYII='}, {'name': 'Fond de Teint X-Ceptional 24 Cappuccino Gosh', 'price': 19.6, 'brand': 'Gosh Copenhagen', 'prod_url': 'https://www.pascalcoste-shopping.com/fond-de-teint-x-ceptional-24-cappuccino-gosh.html', 'img_url': 'data:image/png;base64,iVBORw0KGgoAAAANSUhEUgAAAAEAAAABCAQAAAC1HAwCAAAAC0lEQVR4nGP6zwAAAgcBApocMXEAAAAASUVORK5CYII='}, {'name': 'Fond de Teint X-Ceptional 11 Porcelaine Gosh', 'price': 19.6, 'brand': 'Gosh Copenhagen', 'prod_url': 'https://www.pascalcoste-shopping.com/fond-de-teint-x-ceptional-11-porcelaine-gosh.html', 'img_url': 'data:image/png;base64,iVBORw0KGgoAAAANSUhEUgAAAAEAAAABCAQAAAC1HAwCAAAAC0lEQVR4nGP6zwAAAgcBApocMXEAAAAASUVORK5CYII='}, {'name': 'Fond de Teint X-Ceptional 12 Naturel Gosh', 'price': 19.6, 'brand': 'Gosh Copenhagen', 'prod_url': 'https://www.pascalcoste-shopping.com/fond-de-teint-x-ceptional-12-naturel-gosh.html', 'img_url': 'data:image/png;base64,iVBORw0KGgoAAAANSUhEUgAAAAEAAAABCAQAAAC1HAwCAAAAC0lEQVR4nGP6zwAAAgcBApocMXEAAAAASUVORK5CYII='}, {'name': 'Fond de Teint Hydramatt 004R Clair Gosh', 'price': 25.5, 'brand': 'Gosh Copenhagen', 'prod_url': 'https://www.pascalcoste-shopping.com/fond-de-teint-hydramatt-004r-clair-gosh.html', 'img_url': 'data:image/png;base64,iVBORw0KGgoAAAANSUhEUgAAAAEAAAABCAQAAAC1HAwCAAAAC0lEQVR4nGP6zwAAAgcBApocMXEAAAAASUVORK5CYII='}, {'name': 'Fond de Teint Hydramatt 006R Moyen Clair Gosh', 'price': 25.5, 'brand': 'Gosh Copenhagen', 'prod_url': 'https://www.pascalcoste-shopping.com/fond-de-teint-hydramatt-006r-moyen-clair-gosh.html', 'img_url': 'data:image/png;base64,iVBORw0KGgoAAAANSUhEUgAAAAEAAAABCAQAAAC1HAwCAAAAC0lEQVR4nGP6zwAAAgcBApocMXEAAAAASUVORK5CYII='}, {'name': 'Fond de Teint Hydramatt 008R Moyen Gosh', 'price': 25.5, 'brand': 'Gosh Copenhagen', 'prod_url': 'https://www.pascalcoste-shopping.com/fond-de-teint-hydramatt-008r-moyen-gosh.html', 'img_url': 'data:image/png;base64,iVBORw0KGgoAAAANSUhEUgAAAAEAAAABCAQAAAC1HAwCAAAAC0lEQVR4nGP6zwAAAgcBApocMXEAAAAASUVORK5CYII='}, {'name': 'Fond de Teint Hydramatt 012R Moyen Foncé Gosh', 'price': 25.5, 'brand': 'Gosh Copenhagen', 'prod_url': 'https://www.pascalcoste-shopping.com/fond-de-teint-hydramatt-012r-moyen-fonce-gosh.html', 'img_url': 'data:image/png;base64,iVBORw0KGgoAAAANSUhEUgAAAAEAAAABCAQAAAC1HAwCAAAAC0lEQVR4nGP6zwAAAgcBApocMXEAAAAASUVORK5CYII='}, {'name': 'Fond de Teint Hydramatt 008Y Moyen Gosh', 'price': 25.5, 'brand': 'Gosh Copenhagen', 'prod_url': 'https://www.pascalcoste-shopping.com/fond-de-teint-hydramatt-008y-moyen-gosh.html', 'img_url': 'data:image/png;base64,iVBORw0KGgoAAAANSUhEUgAAAAEAAAABCAQAAAC1HAwCAAAAC0lEQVR4nGP6zwAAAgcBApocMXEAAAAASUVORK5CYII='}, {'name': 'Fond de Teint Hydramatt 016N Très foncé Gosh', 'price': 25.5, 'brand': 'Gosh Copenhagen', 'prod_url': 'https://www.pascalcoste-shopping.com/fond-de-teint-hydramatt-016n-tres-fonce-gosh.html', 'img_url': 'data:image/png;base64,iVBORw0KGgoAAAANSUhEUgAAAAEAAAABCAQAAAC1HAwCAAAAC0lEQVR4nGP6zwAAAgcBApocMXEAAAAASUVORK5CYII='}, {'name': 'Fond de Teint Hydramatt 010N Clair Foncé Gosh', 'price': 25.5, 'brand': 'Gosh Copenhagen', 'prod_url': 'https://www.pascalcoste-shopping.com/fond-de-teint-hydramatt-010n-clair-fonce-gosh.html', 'img_url': 'data:image/png;base64,iVBORw0KGgoAAAANSUhEUgAAAAEAAAABCAQAAAC1HAwCAAAAC0lEQVR4nGP6zwAAAgcBApocMXEAAAAASUVORK5CYII='}, {'name': 'Fond de Teint Hydramatt 002Y Très Clair Gosh', 'price': 25.5, 'brand': 'Gosh Copenhagen', 'prod_url': 'https://www.pascalcoste-shopping.com/fond-de-teint-hydramatt-002y-tres-clair-gosh.html', 'img_url': 'data:image/png;base64,iVBORw0KGgoAAAANSUhEUgAAAAEAAAABCAQAAAC1HAwCAAAAC0lEQVR4nGP6zwAAAgcBApocMXEAAAAASUVORK5CYII='}, {'name': 'Fond de Teint Hydramatt 004Y Clair Gosh', 'price': 25.5, 'brand': 'Gosh Copenhagen', 'prod_url': 'https://www.pascalcoste-shopping.com/fond-de-teint-hydramatt-004y-clair-gosh.html', 'img_url': 'data:image/png;base64,iVBORw0KGgoAAAANSUhEUgAAAAEAAAABCAQAAAC1HAwCAAAAC0lEQVR4nGP6zwAAAgcBApocMXEAAAAASUVORK5CYII='}, {'name': 'Fond de Teint Hydramatt 008N Moyen Gosh', 'price': 25.5, 'brand': 'Gosh Copenhagen', 'prod_url': 'https://www.pascalcoste-shopping.com/fond-de-teint-hydramatt-008n-moyen-gosh.html', 'img_url': 'data:image/png;base64,iVBORw0KGgoAAAANSUhEUgAAAAEAAAABCAQAAAC1HAwCAAAAC0lEQVR4nGP6zwAAAgcBApocMXEAAAAASUVORK5CYII='}, {'name': 'Fond de Teint Hydramatt 018N Profond Gosh', 'price': 25.5, 'brand': 'Gosh Copenhagen', 'prod_url': 'https://www.pascalcoste-shopping.com/fond-de-teint-hydramatt-018n-profond-gosh.html', 'img_url': 'data:image/png;base64,iVBORw0KGgoAAAANSUhEUgAAAAEAAAABCAQAAAC1HAwCAAAAC0lEQVR4nGP6zwAAAgcBApocMXEAAAAASUVORK5CYII='}, {'name': 'Fond de Teint Hydramatt 006Y Moyen Clair Gosh', 'price': 25.5, 'brand': 'Gosh Copenhagen', 'prod_url': 'https://www.pascalcoste-shopping.com/fond-de-teint-hydramatt-006y-moyen-clair-gosh.html', 'img_url': 'data:image/png;base64,iVBORw0KGgoAAAANSUhEUgAAAAEAAAABCAQAAAC1HAwCAAAAC0lEQVR4nGP6zwAAAgcBApocMXEAAAAASUVORK5CYII='}, {'name': 'Fond de Teint Hydramatt 012Y Moyen Foncé Gosh', 'price': 25.5, 'brand': 'Gosh Copenhagen', 'prod_url': 'https://www.pascalcoste-shopping.com/fond-de-teint-hydramatt-012y-moyen-fonce-gosh.html', 'img_url': 'data:image/png;base64,iVBORw0KGgoAAAANSUhEUgAAAAEAAAABCAQAAAC1HAwCAAAAC0lEQVR4nGP6zwAAAgcBApocMXEAAAAASUVORK5CYII='}, {'name': 'Fond de Teint Hydramatt 014Y Foncé Gosh', 'price': 25.5, 'brand': 'Gosh Copenhagen', 'prod_url': 'https://www.pascalcoste-shopping.com/fond-de-teint-hydramatt-014y-fonce-gosh.html', 'img_url': 'data:image/png;base64,iVBORw0KGgoAAAANSUhEUgAAAAEAAAABCAQAAAC1HAwCAAAAC0lEQVR4nGP6zwAAAgcBApocMXEAAAAASUVORK5CYII='}, {'name': 'Fond de Teint Hydramatt 002N Très Clair Gosh', 'price': 25.5, 'brand': 'Gosh Copenhagen', 'prod_url': 'https://www.pascalcoste-shopping.com/fond-de-teint-hydramatt-002n-tres-clair-gosh.html', 'img_url': 'data:image/png;base64,iVBORw0KGgoAAAANSUhEUgAAAAEAAAABCAQAAAC1HAwCAAAAC0lEQVR4nGP6zwAAAgcBApocMXEAAAAASUVORK5CYII='}, {'name': 'Fond de Teint Hydramatt 014N Foncé Gosh', 'price': 25.5, 'brand': 'Gosh Copenhagen', 'prod_url': 'https://www.pascalcoste-shopping.com/fond-de-teint-hydramatt-014n-fonce-gosh.html', 'img_url': 'data:image/png;base64,iVBORw0KGgoAAAANSUhEUgAAAAEAAAABCAQAAAC1HAwCAAAAC0lEQVR4nGP6zwAAAgcBApocMXEAAAAASUVORK5CYII='}, {'name': 'Fond de Teint Hydramatt 012N Moyen Foncé Gosh', 'price': 25.5, 'brand': 'Gosh Copenhagen', 'prod_url': 'https://www.pascalcoste-shopping.com/fond-de-teint-hydramatt-012n-moyen-fonce-gosh.html', 'img_url': 'data:image/png;base64,iVBORw0KGgoAAAANSUhEUgAAAAEAAAABCAQAAAC1HAwCAAAAC0lEQVR4nGP6zwAAAgcBApocMXEAAAAASUVORK5CYII='}, {'name': 'Fond de Teint Hydramatt 002R Très Clair Gosh', 'price': 25.5, 'brand': 'Gosh Copenhagen', 'prod_url': 'https://www.pascalcoste-shopping.com/fond-de-teint-hydramatt-002r-tres-clair-gosh.html', 'img_url': 'data:image/png;base64,iVBORw0KGgoAAAANSUhEUgAAAAEAAAABCAQAAAC1HAwCAAAAC0lEQVR4nGP6zwAAAgcBApocMXEAAAAASUVORK5CYII='}, {'name': 'Fond de Teint Hydramatt 010R Clair Foncé Gosh', 'price': 25.5, 'brand': 'Gosh Copenhagen', 'prod_url': 'https://www.pascalcoste-shopping.com/fond-de-teint-hydramatt-002r-010r-clair-fonce-gosh.html', 'img_url': 'data:image/png;base64,iVBORw0KGgoAAAANSUhEUgAAAAEAAAABCAQAAAC1HAwCAAAAC0lEQVR4nGP6zwAAAgcBApocMXEAAAAASUVORK5CYII='}, {'name': 'Fond de Teint Hydramatt 014R Foncé Gosh', 'price': 25.5, 'brand': 'Gosh Copenhagen', 'prod_url': 'https://www.pascalcoste-shopping.com/fond-de-teint-hydramatt-014r-fonce-gosh.html', 'img_url': 'data:image/png;base64,iVBORw0KGgoAAAANSUhEUgAAAAEAAAABCAQAAAC1HAwCAAAAC0lEQVR4nGP6zwAAAgcBApocMXEAAAAASUVORK5CYII='}, {'name': 'Fond de Teint Hydramatt 004N Clair Gosh', 'price': 25.5, 'brand': 'Gosh Copenhagen', 'prod_url': 'https://www.pascalcoste-shopping.com/fond-de-teint-hydramatt-004n-clair-gosh.html', 'img_url': 'data:image/png;base64,iVBORw0KGgoAAAANSUhEUgAAAAEAAAABCAQAAAC1HAwCAAAAC0lEQVR4nGP6zwAAAgcBApocMXEAAAAASUVORK5CYII='}, {'name': 'Fond de Teint Hydramatt 006N Moyen Clair Gosh', 'price': 25.5, 'brand': 'Gosh Copenhagen', 'prod_url': 'https://www.pascalcoste-shopping.com/fond-de-teint-hydramatt-006n-moyen-clair-gosh.html', 'img_url': 'data:image/png;base64,iVBORw0KGgoAAAANSUhEUgAAAAEAAAABCAQAAAC1HAwCAAAAC0lEQVR4nGP6zwAAAgcBApocMXEAAAAASUVORK5CYII='}, {'name': 'Fond de Teint Hydramatt 020N Très profond Gosh', 'price': 25.5, 'brand': 'Gosh Copenhagen', 'prod_url': 'https://www.pascalcoste-shopping.com/fond-de-teint-hydramatt-020n-tres-profond-gosh.html', 'img_url': 'data:image/png;base64,iVBORw0KGgoAAAANSUhEUgAAAAEAAAABCAQAAAC1HAwCAAAAC0lEQVR4nGP6zwAAAgcBApocMXEAAAAASUVORK5CYII='}, {'name': 'Fond de teint Matifiant Beige Doré', 'price': 18.4, 'brand': 'Parisax Pro', 'prod_url': 'https://www.pascalcoste-shopping.com/fond-de-teint-matifiant-beige-dore.html', 'img_url': 'data:image/png;base64,iVBORw0KGgoAAAANSUhEUgAAAAEAAAABCAQAAAC1HAwCAAAAC0lEQVR4nGP6zwAAAgcBApocMXEAAAAASUVORK5CYII='}, {'name': 'Fond de Teint Correcteur Fluide 16 Toleriane Maquillage La Roche Posay', 'price': 21.5, 'brand': 'La Roche-Posay', 'prod_url': 'https://www.pascalcoste-shopping.com/fond-de-teint-correcteur-fluide-16-toleriane-maquillage-la-roche-posay.html', 'img_url': 'data:image/png;base64,iVBORw0KGgoAAAANSUhEUgAAAAEAAAABCAQAAAC1HAwCAAAAC0lEQVR4nGP6zwAAAgcBApocMXEAAAAASUVORK5CYII='}, {'name': 'Fond de Teint Correcteur Fluide 13 Toleriane Maquillage La Roche Posay', 'price': 21.5, 'brand': 'La Roche-Posay', 'prod_url': 'https://www.pascalcoste-shopping.com/fond-de-teint-correcteur-fluide-13-toleriane-maquillage-la-roche-posay.html', 'img_url': 'data:image/png;base64,iVBORw0KGgoAAAANSUhEUgAAAAEAAAABCAQAAAC1HAwCAAAAC0lEQVR4nGP6zwAAAgcBApocMXEAAAAASUVORK5CYII='}, {'name': 'Fond de Teint Correcteur Fluide 15 Toleriane Maquillage La Roche Posay', 'price': 21.5, 'brand': 'La Roche-Posay', 'prod_url': 'https://www.pascalcoste-shopping.com/fond-de-teint-correcteur-fluide-15-toleriane-maquillage-la-roche-posay.html', 'img_url': 'data:image/png;base64,iVBORw0KGgoAAAANSUhEUgAAAAEAAAABCAQAAAC1HAwCAAAAC0lEQVR4nGP6zwAAAgcBApocMXEAAAAASUVORK5CYII='}, {'name': 'Fond de Teint Correcteur Fluide 10 Toleriane Maquillage La Roche Posay', 'price': 21.5, 'brand': 'La Roche-Posay', 'prod_url': 'https://www.pascalcoste-shopping.com/fond-de-teint-correcteur-fluide-10-toleriane-maquillage-la-roche-posay.html', 'img_url': 'data:image/png;base64,iVBORw0KGgoAAAANSUhEUgAAAAEAAAABCAQAAAC1HAwCAAAAC0lEQVR4nGP6zwAAAgcBApocMXEAAAAASUVORK5CYII='}, {'name': 'Dermablend Fond de Teint Fluide Correcteur 05 Porcelain Vichy', 'price': 22.2, 'brand': 'Vichy', 'prod_url': 'https://www.pascalcoste-shopping.com/dermablend-fond-de-teint-fluide-correcteur-05-porcelain-vichy.html', 'img_url': 'data:image/png;base64,iVBORw0KGgoAAAANSUhEUgAAAAEAAAABCAQAAAC1HAwCAAAAC0lEQVR4nGP6zwAAAgcBApocMXEAAAAASUVORK5CYII='}, {'name': 'Fond de Teint Anti-rides 45 Doré LiftActiv Flexiteint Vichy', 'price': 23.9, 'brand': 'Vichy', 'prod_url': 'https://www.pascalcoste-shopping.com/fond-de-teint-anti-rides-45-dore-liftactiv-flexiteint-vichy.html', 'img_url': 'data:image/png;base64,iVBORw0KGgoAAAANSUhEUgAAAAEAAAABCAQAAAC1HAwCAAAAC0lEQVR4nGP6zwAAAgcBApocMXEAAAAASUVORK5CYII='}, {'name': 'Fond de Teint Anti-rides 35 Moyen LiftActiv Flexiteint Vichy', 'price': 23.9, 'brand': 'Vichy', 'prod_url': 'https://www.pascalcoste-shopping.com/fond-de-teint-anti-rides-35-moyen-liftactiv-flexiteint-vichy.html', 'img_url': 'data:image/png;base64,iVBORw0KGgoAAAANSUhEUgAAAAEAAAABCAQAAAC1HAwCAAAAC0lEQVR4nGP6zwAAAgcBApocMXEAAAAASUVORK5CYII='}, {'name': 'Fond de Teint Anti-rides 25 Clair LiftActiv Flexiteint Vichy', 'price': 23.9, 'brand': 'Vichy', 'prod_url': 'https://www.pascalcoste-shopping.com/fond-de-teint-anti-rides-25-clair-liftactiv-flexiteint-vichy.html', 'img_url': 'data:image/png;base64,iVBORw0KGgoAAAANSUhEUgAAAAEAAAABCAQAAAC1HAwCAAAAC0lEQVR4nGP6zwAAAgcBApocMXEAAAAASUVORK5CYII='}, {'name': 'Dermablend 3D Correction Fond de Teint 55 Bronze Vichy', 'price': 25.0, 'brand': 'Vichy', 'prod_url': 'https://www.pascalcoste-shopping.com/dermablend-3d-correction-fond-de-teint-55-bronze-vichy.html', 'img_url': 'data:image/png;base64,iVBORw0KGgoAAAANSUhEUgAAAAEAAAABCAQAAAC1HAwCAAAAC0lEQVR4nGP6zwAAAgcBApocMXEAAAAASUVORK5CYII='}, {'name': 'Fond de Teint Photoready Candid Medium Beige', 'price': 10.8, 'brand': 'Revlon Maquillage', 'prod_url': 'https://www.pascalcoste-shopping.com/fond-de-teint-photoready-candid-medium-beige.html', 'img_url': 'data:image/png;base64,iVBORw0KGgoAAAANSUhEUgAAAAEAAAABCAQAAAC1HAwCAAAAC0lEQVR4nGP6zwAAAgcBApocMXEAAAAASUVORK5CYII='}, {'name': 'Fond de Teint ColorStay Full Cover N°150 Buff Revlon', 'price': 11.5, 'brand': 'Revlon Maquillage', 'prod_url': 'https://www.pascalcoste-shopping.com/fond-de-teint-colorstay-full-cover-n-150-buff-revlon.html', 'img_url': 'data:image/png;base64,iVBORw0KGgoAAAANSUhEUgAAAAEAAAABCAQAAAC1HAwCAAAAC0lEQVR4nGP6zwAAAgcBApocMXEAAAAASUVORK5CYII='}, {'name': 'Fond de teint PhotoReady Candid Glow N°240 Natural Beige', 'price': 16.5, 'brand': 'Revlon Maquillage', 'prod_url': 'https://www.pascalcoste-shopping.com/fond-de-teint-photoready-candid-glow-n-240-natural-beige.html', 'img_url': 'data:image/png;base64,iVBORw0KGgoAAAANSUhEUgAAAAEAAAABCAQAAAC1HAwCAAAAC0lEQVR4nGP6zwAAAgcBApocMXEAAAAASUVORK5CYII='}, {'name': 'Fond de Teint Colorstay Peaux Normales à Sèches N°250 Fresh Beige Revlon', 'price': 15.0, 'brand': 'Revlon Maquillage', 'prod_url': 'https://www.pascalcoste-shopping.com/fond-de-teint-colorstay-dry-skin-fresh-beige.html', 'img_url': 'data:image/png;base64,iVBORw0KGgoAAAANSUhEUgAAAAEAAAABCAQAAAC1HAwCAAAAC0lEQVR4nGP6zwAAAgcBApocMXEAAAAASUVORK5CYII='}, {'name': 'BB Crème 001 Sable Gosh', 'price': 18.8, 'brand': 'Gosh Copenhagen', 'prod_url': 'https://www.pascalcoste-shopping.com/bb-creme-001-sable-gosh.html', 'img_url': 'data:image/png;base64,iVBORw0KGgoAAAANSUhEUgAAAAEAAAABCAQAAAC1HAwCAAAAC0lEQVR4nGP6zwAAAgcBApocMXEAAAAASUVORK5CYII='}, {'name': 'Fond de Teint X-Ceptional 28 Cannelle Gosh', 'price': 19.6, 'brand': 'Gosh Copenhagen', 'prod_url': 'https://www.pascalcoste-shopping.com/fond-de-teint-x-ceptional-28-cannelle-gosh.html', 'img_url': 'data:image/png;base64,iVBORw0KGgoAAAANSUhEUgAAAAEAAAABCAQAAAC1HAwCAAAAC0lEQVR4nGP6zwAAAgcBApocMXEAAAAASUVORK5CYII='}, {'name': 'Fond de Teint Hydramatt 010Y Clair Foncé Gosh', 'price': 25.5, 'brand': 'Gosh Copenhagen', 'prod_url': 'https://www.pascalcoste-shopping.com/fond-de-teint-hydramatt-010y-clair-fonce-gosh.html', 'img_url': 'data:image/png;base64,iVBORw0KGgoAAAANSUhEUgAAAAEAAAABCAQAAAC1HAwCAAAAC0lEQVR4nGP6zwAAAgcBApocMXEAAAAASUVORK5CYII='}]\n"
          ]
        }
      ],
      "source": [
        "url = 'https://www.pascalcoste-shopping.com/esthetique/fond-de-teint.html'\n",
        "products_info = scrape_product_info(url)\n",
        "print(products_info)"
      ]
    },
    {
      "cell_type": "markdown",
      "metadata": {
        "id": "_eDp0p0rPhec"
      },
      "source": []
    },
    {
      "cell_type": "code",
      "execution_count": 12,
      "metadata": {
        "id": "PkQbYdK1JGUF"
      },
      "outputs": [],
      "source": [
        "# Function to save extracted product information to a JSON file\n",
        "import json\n",
        "def save_to_json(data, filename):\n",
        "    with open(filename, 'w') as f:\n",
        "        json.dump(data, f, indent=4)\n",
        "\n",
        "if __name__ == \"__main__\":\n",
        "\n",
        "    save_to_json(products_info, 'products.json')"
      ]
    },
    {
      "cell_type": "markdown",
      "metadata": {
        "id": "34XFg7UztudJ"
      },
      "source": [
        "## DataBase connection "
      ]
    },
    {
      "cell_type": "code",
      "execution_count": 1,
      "metadata": {
        "id": "6OecpfXNtt57"
      },
      "outputs": [],
      "source": [
        "import sqlite3\n",
        "import json\n",
        "\n",
        "# Function to create database tables\n",
        "def create_tables():\n",
        "    conn = sqlite3.connect('products.db')\n",
        "    cursor = conn.cursor()\n",
        "\n",
        "    # Create products table\n",
        "    cursor.execute('''\n",
        "        CREATE TABLE IF NOT EXISTS products (\n",
        "            id INTEGER PRIMARY KEY,\n",
        "            name TEXT,\n",
        "            price REAL,\n",
        "            brand TEXT,\n",
        "            imageUrl TEXT,\n",
        "            productUrl TEXT\n",
        "        )\n",
        "    ''')\n",
        "\n",
        "    conn.commit()\n",
        "    conn.close()"
      ]
    },
    {
      "cell_type": "code",
      "execution_count": 4,
      "metadata": {
        "id": "aikSKXtXPywI"
      },
      "outputs": [],
      "source": [
        "# Function to insert product data into the database\n",
        "def insert_data(products):\n",
        "    conn = sqlite3.connect('products.db')\n",
        "    cursor = conn.cursor()\n",
        "\n",
        "    for product in products:\n",
        "        cursor.execute('''\n",
        "            INSERT INTO products (name, price, brand, imageUrl, productUrl)\n",
        "            VALUES (?, ?, ?, ?, ?)\n",
        "        ''', (product['name'], product['price'], product['brand'], product['img_url'], product['prod_url']))\n",
        "\n",
        "    conn.commit()\n",
        "    conn.close()\n",
        "\n",
        "if __name__ == \"__main__\":\n",
        "    create_tables()\n",
        "    with open('products.json') as f:\n",
        "        products = json.load(f)\n",
        "    insert_data(products)\n"
      ]
    },
    {
      "cell_type": "markdown",
      "metadata": {},
      "source": [
        "## DOCKER\n"
      ]
    },
    {
      "cell_type": "code",
      "execution_count": 2,
      "metadata": {},
      "outputs": [],
      "source": []
    },
    {
      "cell_type": "code",
      "execution_count": 3,
      "metadata": {},
      "outputs": [],
      "source": []
    },
    {
      "cell_type": "code",
      "execution_count": 4,
      "metadata": {},
      "outputs": [],
      "source": []
    },
    {
      "cell_type": "code",
      "execution_count": 5,
      "metadata": {},
      "outputs": [],
      "source": []
    },
    {
      "cell_type": "code",
      "execution_count": null,
      "metadata": {},
      "outputs": [],
      "source": []
    }
  ],
  "metadata": {
    "colab": {
      "provenance": []
    },
    "kernelspec": {
      "display_name": "Python 3",
      "name": "python3"
    },
    "language_info": {
      "codemirror_mode": {
        "name": "ipython",
        "version": 3
      },
      "file_extension": ".py",
      "mimetype": "text/x-python",
      "name": "python",
      "nbconvert_exporter": "python",
      "pygments_lexer": "ipython3",
      "version": "3.12.2"
    }
  },
  "nbformat": 4,
  "nbformat_minor": 0
}
